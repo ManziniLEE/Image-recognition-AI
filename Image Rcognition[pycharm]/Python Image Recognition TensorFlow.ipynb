{
 "cells": [
  {
   "cell_type": "code",
   "execution_count": 2,
   "metadata": {},
   "outputs": [
    {
     "name": "stderr",
     "output_type": "stream",
     "text": [
      "c:\\users\\manzlee\\appdata\\local\\programs\\python\\python36\\lib\\site-packages\\tensorflow\\python\\framework\\dtypes.py:493: FutureWarning: Passing (type, 1) or '1type' as a synonym of type is deprecated; in a future version of numpy, it will be understood as (type, (1,)) / '(1,)type'.\n",
      "  _np_qint8 = np.dtype([(\"qint8\", np.int8, 1)])\n",
      "c:\\users\\manzlee\\appdata\\local\\programs\\python\\python36\\lib\\site-packages\\tensorflow\\python\\framework\\dtypes.py:494: FutureWarning: Passing (type, 1) or '1type' as a synonym of type is deprecated; in a future version of numpy, it will be understood as (type, (1,)) / '(1,)type'.\n",
      "  _np_quint8 = np.dtype([(\"quint8\", np.uint8, 1)])\n",
      "c:\\users\\manzlee\\appdata\\local\\programs\\python\\python36\\lib\\site-packages\\tensorflow\\python\\framework\\dtypes.py:495: FutureWarning: Passing (type, 1) or '1type' as a synonym of type is deprecated; in a future version of numpy, it will be understood as (type, (1,)) / '(1,)type'.\n",
      "  _np_qint16 = np.dtype([(\"qint16\", np.int16, 1)])\n",
      "c:\\users\\manzlee\\appdata\\local\\programs\\python\\python36\\lib\\site-packages\\tensorflow\\python\\framework\\dtypes.py:496: FutureWarning: Passing (type, 1) or '1type' as a synonym of type is deprecated; in a future version of numpy, it will be understood as (type, (1,)) / '(1,)type'.\n",
      "  _np_quint16 = np.dtype([(\"quint16\", np.uint16, 1)])\n",
      "c:\\users\\manzlee\\appdata\\local\\programs\\python\\python36\\lib\\site-packages\\tensorflow\\python\\framework\\dtypes.py:497: FutureWarning: Passing (type, 1) or '1type' as a synonym of type is deprecated; in a future version of numpy, it will be understood as (type, (1,)) / '(1,)type'.\n",
      "  _np_qint32 = np.dtype([(\"qint32\", np.int32, 1)])\n",
      "c:\\users\\manzlee\\appdata\\local\\programs\\python\\python36\\lib\\site-packages\\tensorflow\\python\\framework\\dtypes.py:502: FutureWarning: Passing (type, 1) or '1type' as a synonym of type is deprecated; in a future version of numpy, it will be understood as (type, (1,)) / '(1,)type'.\n",
      "  np_resource = np.dtype([(\"resource\", np.ubyte, 1)])\n"
     ]
    }
   ],
   "source": [
    "import tensorflow as tf"
   ]
  },
  {
   "cell_type": "code",
   "execution_count": 3,
   "metadata": {},
   "outputs": [
    {
     "name": "stdout",
     "output_type": "stream",
     "text": [
      "[ 8. 20.]\n"
     ]
    }
   ],
   "source": [
    "pholder_1 = tf.placeholder(dtype=tf.float32)\n",
    "pholder_2 = tf.placeholder(dtype=tf.float32)\n",
    "\n",
    "multi1 = pholder_1*3\n",
    "multi2 = pholder_1*pholder_2\n",
    "\n",
    "session=tf.Session()\n",
    "print(session.run(multi2, {pholder_1:4.0, pholder_2:[2.0, 5.0]}))"
   ]
  },
  {
   "cell_type": "code",
   "execution_count": 4,
   "metadata": {},
   "outputs": [
    {
     "name": "stdout",
     "output_type": "stream",
     "text": [
      "[12.509]\n"
     ]
    }
   ],
   "source": [
    "#variable nodes\n",
    "var_node1=tf.Variable([4.034], dtype=tf.float32)\n",
    "cannode1= tf.constant([10.0], dtype=tf.float32)\n",
    "\n",
    "init= tf.global_variables_initializer()\n",
    "session=tf.Session()\n",
    "session.run(init)\n",
    "\n",
    "session.run(var_node1.assign([12.509]))\n",
    "print(session.run(var_node1))\n"
   ]
  },
  {
   "cell_type": "code",
   "execution_count": 5,
   "metadata": {},
   "outputs": [
    {
     "name": "stdout",
     "output_type": "stream",
     "text": [
      "[-2.  -2.5 -3.  -3.5]\n"
     ]
    }
   ],
   "source": [
    "#linear regression models\n",
    "\n",
    "#y=Wx+B\n",
    "#x=[1,2,3,4]\n",
    "#y=[0,-1,-2,-3]\n",
    "\n",
    "W=tf.Variable([-0.5], dtype=tf.float32)\n",
    "b=tf.Variable([-1.5], dtype=tf.float32)\n",
    "\n",
    "x=tf.placeholder(dtype=tf.float32)\n",
    "y=tf.placeholder(dtype=tf.float32)\n",
    "\n",
    "linear_model=W*x+b\n",
    "\n",
    "x_train=[1,2,3,4]\n",
    "y_train=[0,-1,-2,-3]\n",
    "\n",
    "session = tf.Session()\n",
    "init=tf.global_variables_initializer()\n",
    "session.run(init)\n",
    "print(session.run(linear_model,{x: x_train}))\n",
    "\n"
   ]
  },
  {
   "cell_type": "code",
   "execution_count": 6,
   "metadata": {},
   "outputs": [
    {
     "name": "stdout",
     "output_type": "stream",
     "text": [
      "[ -8.999992 -12.999988 -22.999977 -28.99997 ]\n"
     ]
    }
   ],
   "source": [
    "#linear regression models\n",
    "#y=Wx+B\n",
    "#x=[1,2,3,4]\n",
    "#y=[0,-1,-2,-3]\n",
    "\n",
    "W=tf.Variable([-0.5], dtype=tf.float32)\n",
    "b=tf.Variable([.5], dtype=tf.float32)\n",
    "\n",
    "x=tf.placeholder(dtype=tf.float32)\n",
    "y=tf.placeholder(dtype=tf.float32)\n",
    "\n",
    "linear_model=W*x+b\n",
    "\n",
    "#training the model minimizing loss as much as possible\n",
    "x_train=[1,2,3,4]\n",
    "y_train=[0,-1,-2,-3]\n",
    "\n",
    "loss = tf.reduce_sum(tf.square(linear_model-y))\n",
    "optimizer = tf.train.GradientDescentOptimizer(0.01) #train the model at a learning rate of .01\n",
    "train = optimizer.minimize(loss)\n",
    "\n",
    "session = tf.Session()\n",
    "init=tf.global_variables_initializer()\n",
    "session.run(init)\n",
    "\n",
    "for i in range(1000):\n",
    "    session.run(train, {x:x_train, y:y_train})\n",
    "    \n",
    "#print(session.run([W, b]))\n",
    "new_W, new_b, new_loss = session.run([W, b, loss], {x:x_train, y:y_train})\n",
    "#print(\"New W: %s\"%new_W)\n",
    "#print(\"New b: %s\"%new_b)\n",
    "#print(\"New loss: %s\"%new_loss)\n",
    "#testing accuracy\n",
    "print(session.run(linear_model, {x:[10,14,24,30]}))"
   ]
  },
  {
   "cell_type": "code",
   "execution_count": 7,
   "metadata": {},
   "outputs": [
    {
     "name": "stdout",
     "output_type": "stream",
     "text": [
      "Epoch 1/1\n",
      "   64/50000 [..............................] - ETA: 8:54:10 - loss: 2.3252 - acc: 0.1562 "
     ]
    },
    {
     "name": "stderr",
     "output_type": "stream",
     "text": [
      "c:\\users\\manzlee\\appdata\\local\\programs\\python\\python36\\lib\\site-packages\\keras\\callbacks.py:119: UserWarning: Method on_batch_end() is slow compared to the batch update (0.476552). Check your callbacks.\n",
      "  % delta_t_median)\n"
     ]
    },
    {
     "name": "stdout",
     "output_type": "stream",
     "text": [
      "50000/50000 [==============================] - 676s 14ms/step - loss: 1.9030 - acc: 0.3161\n"
     ]
    }
   ],
   "source": [
    "from PIL import Image\n",
    "\n",
    "from matplotlib import pyplot\n",
    "from keras.datasets import cifar10\n",
    "\n",
    "#cat_path=''\n",
    "#cat_img = Image.open(cat_path)\n",
    "#cat_img_show()\n",
    "\n",
    "#display_img_prev = input('Enter Image Pathname: ')\n",
    "#display_img = Image.open(display_img_prev)\n",
    "#display_img.show()\n",
    "\n",
    "#cifar10 order of labels\n",
    "labels=['airplane','automobile', 'birds', 'cat',  'deer', 'frog', 'horse', 'dog', 'ship', 'truck']\n",
    "\n",
    "from keras.datasets import cifar10\n",
    "(X_train, y_train), (X_test, y_test) = cifar10.load_data()\n",
    "\n",
    "\"\"\"\n",
    "index=int(input('Enter image index: '))\n",
    "display_image=X_train[index]\n",
    "display_label=y_train[index][0]\n",
    "\n",
    "from matplotlib import pyplot as plt\n",
    "final_image = Image.fromarray(display_image)\n",
    "\n",
    "plt.imshow(display_image)\n",
    "#red,green,blue = final_image.split()\n",
    "#plt.imshow(red,cmap=\"Reds\")\n",
    "plt.show()\n",
    "\n",
    "print(labels[display_label])\n",
    "\n",
    "\n",
    "# example of loading the cifar10 dataset\n",
    "\n",
    "# load dataset\n",
    "(trainX, trainy), (testX, testy) = cifar10.load_data()\n",
    "# summarize loaded dataset\n",
    "print('Train: X=%s, y=%s' % (trainX.shape, trainy.shape))\n",
    "print('Test: X=%s, y=%s' % (testX.shape, testy.shape))\n",
    "# plot first few images\n",
    "for i in range(9):\n",
    "    # define subplot\n",
    "    plt.subplot(330 + 1 + i)\n",
    "    # plot raw pixel data\n",
    "    plt.imshow(trainX[i])\n",
    "# show the figure\n",
    "plt.show()\n",
    "\"\"\"\n",
    "\n",
    "from keras.utils import np_utils\n",
    "new_X_train = X_train.astype('float32')\n",
    "new_X_test = X_test.astype('float32')\n",
    "new_X_train /= 255\n",
    "new_X_test /= 255\n",
    "new_Y_train = np_utils.to_categorical(y_train)\n",
    "new_Y_test = np_utils.to_categorical(y_test)\n",
    "\n",
    "\n",
    "from keras.models import Sequential\n",
    "from keras.layers import Dense, Dropout, Flatten\n",
    "from keras.layers.convolutional import Conv2D, MaxPooling2D\n",
    "from keras.optimizers import SGD\n",
    "from keras.constraints import maxnorm\n",
    "\n",
    "model = Sequential()\n",
    "model.add(Conv2D(32, (3,3), input_shape=(32,32,3), activation='relu', padding='same', kernel_constraint=maxnorm(3)))\n",
    "model.add(MaxPooling2D(pool_size=(2,2)))\n",
    "model.add(Flatten())\n",
    "model.add(Dense(512, activation='relu', kernel_constraint=maxnorm(3)))\n",
    "model.add(Dropout(0.5))\n",
    "model.add(Dense(10, activation='softmax'))\n",
    "\n",
    "model.compile(loss='categorical_crossentropy', optimizer=SGD(lr=0.01), metrics=['accuracy'])\n",
    "model.fit(new_X_train, new_Y_train, epochs=1, batch_size=32)#epochs=1takes less time\n",
    "\n",
    "import h5py\n",
    "model.save('Train_model.h5')\n"
   ]
  },
  {
   "cell_type": "code",
   "execution_count": 16,
   "metadata": {},
   "outputs": [
    {
     "name": "stdout",
     "output_type": "stream",
     "text": [
      "[-23.         -17.44444444 -11.88888889  -6.33333333  -0.77777778\n",
      "   4.77777778  10.33333333  15.88888889  21.44444444  27.        ]\n"
     ]
    },
    {
     "data": {
      "image/png": "[encoded data removed]",
      "text/plain": [
       "<Figure size 432x288 with 1 Axes>"
      ]
     },
     "metadata": {
      "needs_background": "light"
     },
     "output_type": "display_data"
    }
   ],
   "source": [
    "import matplotlib.pyplot as plt\n",
    "import numpy as np\n",
    "x = np.linspace(-5,5,10)\n",
    "y = 5*x+2\n",
    "fig = plt.figure()\n",
    "ax = fig.add_subplot(1, 1, 1)\n",
    "ax.spines['left'].set_position('center')\n",
    "ax.spines['bottom'].set_position('center')\n",
    "ax.spines['right'].set_color('none')\n",
    "ax.spines['top'].set_color('none')\n",
    "ax.xaxis.set_ticks_position('bottom')\n",
    "ax.yaxis.set_ticks_position('left')\n",
    "\n",
    "plt.plot(x, y, '-r', label='y=5x+2')\n",
    "plt.title('Graph of y=5x+2')\n",
    "plt.xlabel('x', color='#1C2833')\n",
    "plt.ylabel('y', color='#1C2833')\n",
    "plt.legend(loc='upper left')\n",
    "#plt.grid()\n",
    "plt.show()\n"
   ]
  },
  {
   "cell_type": "code",
   "execution_count": null,
   "metadata": {},
   "outputs": [],
   "source": [
    "from PIL import Image\n",
    "import numpy as np\n",
    "from keras.models import load_model\n",
    "from keras.preprocessing import image\n",
    "\n",
    "labels = ['airplane', 'automobile', 'bird', 'cat', 'deer', 'dog', 'frog', 'horse', 'ship', 'truck']\n",
    "\n",
    "model = load_model('Train_model.h5')\n",
    "\n",
    "input_path = input('Enter image file pathname: ')\n",
    "input_image = Image.open(input_path)\n",
    "input_image = input_image.resize((32, 32), resample=Image.LANCZOS)\n",
    "\n",
    "\"\"\"image_array = np.array(input_image)\n",
    "image_array = image_array.astype('float32')\n",
    "image_array /= 255.0\n",
    "\"\"\"\n",
    "\n",
    "image_array=np.array(input_image)\n",
    "image_array = image_array.astype('float32')\n",
    "image_array /= 255\n",
    "image_array = image_array.reshape(32, 32, 4)\n",
    "test_image=np.expand_dims(image_array, axis=0)\n",
    "\n",
    "answer = model.predict(test_image)\n",
    "input_image.show()\n",
    "print(labels[np.argmax(answer)])\n",
    "\n"
   ]
  },
  {
   "cell_type": "code",
   "execution_count": null,
   "metadata": {},
   "outputs": [],
   "source": []
  }
 ],
 "metadata": {
  "kernelspec": {
   "display_name": "Python 3",
   "language": "python",
   "name": "python3"
  },
  "language_info": {
   "codemirror_mode": {
    "name": "ipython",
    "version": 3
   },
   "file_extension": ".py",
   "mimetype": "text/x-python",
   "name": "python",
   "nbconvert_exporter": "python",
   "pygments_lexer": "ipython3",
   "version": "3.6.6"
  }
 },
 "nbformat": 4,
 "nbformat_minor": 2
}
